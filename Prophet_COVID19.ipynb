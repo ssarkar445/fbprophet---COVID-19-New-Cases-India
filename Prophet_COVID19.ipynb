{
  "nbformat": 4,
  "nbformat_minor": 0,
  "metadata": {
    "colab": {
      "name": "Prophet_COVID19.ipynb",
      "provenance": [],
      "collapsed_sections": []
    },
    "kernelspec": {
      "name": "python3",
      "display_name": "Python 3"
    }
  },
  "cells": [
    {
      "cell_type": "code",
      "metadata": {
        "id": "-gXnlu6oCENv",
        "colab_type": "code",
        "outputId": "1c6e7e68-be3a-4528-abe9-cac7a2f2c086",
        "colab": {
          "base_uri": "https://localhost:8080/",
          "height": 354
        }
      },
      "source": [
        "# Installing fbprophet package\n",
        "! pip install fbprophet"
      ],
      "execution_count": 255,
      "outputs": [
        {
          "output_type": "stream",
          "text": [
            "Requirement already satisfied: fbprophet in /usr/local/lib/python3.6/dist-packages (0.6)\n",
            "Requirement already satisfied: Cython>=0.22 in /usr/local/lib/python3.6/dist-packages (from fbprophet) (0.29.16)\n",
            "Requirement already satisfied: cmdstanpy==0.4 in /usr/local/lib/python3.6/dist-packages (from fbprophet) (0.4.0)\n",
            "Requirement already satisfied: pystan>=2.14 in /usr/local/lib/python3.6/dist-packages (from fbprophet) (2.19.1.1)\n",
            "Requirement already satisfied: numpy>=1.10.0 in /usr/local/lib/python3.6/dist-packages (from fbprophet) (1.18.3)\n",
            "Requirement already satisfied: pandas>=0.23.4 in /usr/local/lib/python3.6/dist-packages (from fbprophet) (1.0.3)\n",
            "Requirement already satisfied: matplotlib>=2.0.0 in /usr/local/lib/python3.6/dist-packages (from fbprophet) (3.2.1)\n",
            "Requirement already satisfied: LunarCalendar>=0.0.9 in /usr/local/lib/python3.6/dist-packages (from fbprophet) (0.0.9)\n",
            "Requirement already satisfied: convertdate>=2.1.2 in /usr/local/lib/python3.6/dist-packages (from fbprophet) (2.2.0)\n",
            "Requirement already satisfied: holidays>=0.9.5 in /usr/local/lib/python3.6/dist-packages (from fbprophet) (0.9.12)\n",
            "Requirement already satisfied: setuptools-git>=1.2 in /usr/local/lib/python3.6/dist-packages (from fbprophet) (1.2)\n",
            "Requirement already satisfied: python-dateutil>=2.8.0 in /usr/local/lib/python3.6/dist-packages (from fbprophet) (2.8.1)\n",
            "Requirement already satisfied: pytz>=2017.2 in /usr/local/lib/python3.6/dist-packages (from pandas>=0.23.4->fbprophet) (2018.9)\n",
            "Requirement already satisfied: cycler>=0.10 in /usr/local/lib/python3.6/dist-packages (from matplotlib>=2.0.0->fbprophet) (0.10.0)\n",
            "Requirement already satisfied: kiwisolver>=1.0.1 in /usr/local/lib/python3.6/dist-packages (from matplotlib>=2.0.0->fbprophet) (1.2.0)\n",
            "Requirement already satisfied: pyparsing!=2.0.4,!=2.1.2,!=2.1.6,>=2.0.1 in /usr/local/lib/python3.6/dist-packages (from matplotlib>=2.0.0->fbprophet) (2.4.7)\n",
            "Requirement already satisfied: ephem>=3.7.5.3 in /usr/local/lib/python3.6/dist-packages (from LunarCalendar>=0.0.9->fbprophet) (3.7.7.1)\n",
            "Requirement already satisfied: pymeeus<=1,>=0.3.6 in /usr/local/lib/python3.6/dist-packages (from convertdate>=2.1.2->fbprophet) (0.3.7)\n",
            "Requirement already satisfied: six in /usr/local/lib/python3.6/dist-packages (from holidays>=0.9.5->fbprophet) (1.12.0)\n"
          ],
          "name": "stdout"
        }
      ]
    },
    {
      "cell_type": "code",
      "metadata": {
        "id": "CGi3POx9DCKv",
        "colab_type": "code",
        "colab": {}
      },
      "source": [
        "# Importing the required packages\n",
        "import fbprophet\n",
        "from fbprophet import Prophet\n",
        "import pandas as pd\n",
        "import numpy as np\n",
        "import matplotlib.pyplot as plt\n",
        "import warnings\n",
        "warnings.filterwarnings('ignore')"
      ],
      "execution_count": 0,
      "outputs": []
    },
    {
      "cell_type": "code",
      "metadata": {
        "id": "hPhpETsuF0sL",
        "colab_type": "code",
        "outputId": "3050e844-2cd4-4e40-e6e4-50834d4a5876",
        "colab": {
          "base_uri": "https://localhost:8080/",
          "height": 318
        }
      },
      "source": [
        "# Chekcing all the modules present in the fbprophet packages\n",
        "dir(fbprophet)"
      ],
      "execution_count": 257,
      "outputs": [
        {
          "output_type": "execute_result",
          "data": {
            "text/plain": [
              "['Prophet',\n",
              " '__builtins__',\n",
              " '__cached__',\n",
              " '__doc__',\n",
              " '__file__',\n",
              " '__loader__',\n",
              " '__name__',\n",
              " '__package__',\n",
              " '__path__',\n",
              " '__spec__',\n",
              " '__version__',\n",
              " 'diagnostics',\n",
              " 'forecaster',\n",
              " 'hdays',\n",
              " 'make_holidays',\n",
              " 'models',\n",
              " 'plot']"
            ]
          },
          "metadata": {
            "tags": []
          },
          "execution_count": 257
        }
      ]
    },
    {
      "cell_type": "code",
      "metadata": {
        "id": "nJ3L9UqkFQ_9",
        "colab_type": "code",
        "outputId": "a17b7a0a-301b-44cd-ccfc-953546c8c20b",
        "colab": {
          "base_uri": "https://localhost:8080/",
          "height": 34
        }
      },
      "source": [
        "# Required only if you are reading data from the google drive\n",
        "'''\n",
        "from google.colab import drive\n",
        "drive.mount('/content/drive',force_remount=False)\n",
        "'''"
      ],
      "execution_count": 258,
      "outputs": [
        {
          "output_type": "execute_result",
          "data": {
            "text/plain": [
              "\"\\nfrom google.colab import drive\\ndrive.mount('/content/drive',force_remount=False)\\n\""
            ]
          },
          "metadata": {
            "tags": []
          },
          "execution_count": 258
        }
      ]
    },
    {
      "cell_type": "code",
      "metadata": {
        "id": "ed_8k2mdFtG7",
        "colab_type": "code",
        "colab": {}
      },
      "source": [
        "# Reading data from sites can be pointed to trusted site\n",
        "cov_world = pd.read_csv('https://covid.ourworldindata.org/data/owid-covid-data.csv')"
      ],
      "execution_count": 0,
      "outputs": []
    },
    {
      "cell_type": "markdown",
      "metadata": {
        "id": "0B8BpvoIJi6k",
        "colab_type": "text"
      },
      "source": [
        "# New Section"
      ]
    },
    {
      "cell_type": "code",
      "metadata": {
        "id": "IhexkuqjkBqp",
        "colab_type": "code",
        "colab": {
          "base_uri": "https://localhost:8080/",
          "height": 301
        },
        "outputId": "5c830872-a928-4783-9523-bde7d87708ea"
      },
      "source": [
        "# Checking for few records from the dataframe\n",
        "cov_world.head()"
      ],
      "execution_count": 260,
      "outputs": [
        {
          "output_type": "execute_result",
          "data": {
            "text/html": [
              "<div>\n",
              "<style scoped>\n",
              "    .dataframe tbody tr th:only-of-type {\n",
              "        vertical-align: middle;\n",
              "    }\n",
              "\n",
              "    .dataframe tbody tr th {\n",
              "        vertical-align: top;\n",
              "    }\n",
              "\n",
              "    .dataframe thead th {\n",
              "        text-align: right;\n",
              "    }\n",
              "</style>\n",
              "<table border=\"1\" class=\"dataframe\">\n",
              "  <thead>\n",
              "    <tr style=\"text-align: right;\">\n",
              "      <th></th>\n",
              "      <th>iso_code</th>\n",
              "      <th>location</th>\n",
              "      <th>date</th>\n",
              "      <th>total_cases</th>\n",
              "      <th>new_cases</th>\n",
              "      <th>total_deaths</th>\n",
              "      <th>new_deaths</th>\n",
              "      <th>total_cases_per_million</th>\n",
              "      <th>new_cases_per_million</th>\n",
              "      <th>total_deaths_per_million</th>\n",
              "      <th>new_deaths_per_million</th>\n",
              "      <th>total_tests</th>\n",
              "      <th>new_tests</th>\n",
              "      <th>total_tests_per_thousand</th>\n",
              "      <th>new_tests_per_thousand</th>\n",
              "      <th>tests_units</th>\n",
              "    </tr>\n",
              "  </thead>\n",
              "  <tbody>\n",
              "    <tr>\n",
              "      <th>0</th>\n",
              "      <td>ABW</td>\n",
              "      <td>Aruba</td>\n",
              "      <td>2020-03-13</td>\n",
              "      <td>2</td>\n",
              "      <td>2</td>\n",
              "      <td>0</td>\n",
              "      <td>0</td>\n",
              "      <td>18.733</td>\n",
              "      <td>18.733</td>\n",
              "      <td>0.0</td>\n",
              "      <td>0.0</td>\n",
              "      <td>NaN</td>\n",
              "      <td>NaN</td>\n",
              "      <td>NaN</td>\n",
              "      <td>NaN</td>\n",
              "      <td>NaN</td>\n",
              "    </tr>\n",
              "    <tr>\n",
              "      <th>1</th>\n",
              "      <td>ABW</td>\n",
              "      <td>Aruba</td>\n",
              "      <td>2020-03-20</td>\n",
              "      <td>4</td>\n",
              "      <td>2</td>\n",
              "      <td>0</td>\n",
              "      <td>0</td>\n",
              "      <td>37.465</td>\n",
              "      <td>18.733</td>\n",
              "      <td>0.0</td>\n",
              "      <td>0.0</td>\n",
              "      <td>NaN</td>\n",
              "      <td>NaN</td>\n",
              "      <td>NaN</td>\n",
              "      <td>NaN</td>\n",
              "      <td>NaN</td>\n",
              "    </tr>\n",
              "    <tr>\n",
              "      <th>2</th>\n",
              "      <td>ABW</td>\n",
              "      <td>Aruba</td>\n",
              "      <td>2020-03-24</td>\n",
              "      <td>12</td>\n",
              "      <td>8</td>\n",
              "      <td>0</td>\n",
              "      <td>0</td>\n",
              "      <td>112.395</td>\n",
              "      <td>74.930</td>\n",
              "      <td>0.0</td>\n",
              "      <td>0.0</td>\n",
              "      <td>NaN</td>\n",
              "      <td>NaN</td>\n",
              "      <td>NaN</td>\n",
              "      <td>NaN</td>\n",
              "      <td>NaN</td>\n",
              "    </tr>\n",
              "    <tr>\n",
              "      <th>3</th>\n",
              "      <td>ABW</td>\n",
              "      <td>Aruba</td>\n",
              "      <td>2020-03-25</td>\n",
              "      <td>17</td>\n",
              "      <td>5</td>\n",
              "      <td>0</td>\n",
              "      <td>0</td>\n",
              "      <td>159.227</td>\n",
              "      <td>46.831</td>\n",
              "      <td>0.0</td>\n",
              "      <td>0.0</td>\n",
              "      <td>NaN</td>\n",
              "      <td>NaN</td>\n",
              "      <td>NaN</td>\n",
              "      <td>NaN</td>\n",
              "      <td>NaN</td>\n",
              "    </tr>\n",
              "    <tr>\n",
              "      <th>4</th>\n",
              "      <td>ABW</td>\n",
              "      <td>Aruba</td>\n",
              "      <td>2020-03-26</td>\n",
              "      <td>19</td>\n",
              "      <td>2</td>\n",
              "      <td>0</td>\n",
              "      <td>0</td>\n",
              "      <td>177.959</td>\n",
              "      <td>18.733</td>\n",
              "      <td>0.0</td>\n",
              "      <td>0.0</td>\n",
              "      <td>NaN</td>\n",
              "      <td>NaN</td>\n",
              "      <td>NaN</td>\n",
              "      <td>NaN</td>\n",
              "      <td>NaN</td>\n",
              "    </tr>\n",
              "  </tbody>\n",
              "</table>\n",
              "</div>"
            ],
            "text/plain": [
              "  iso_code location  ... new_tests_per_thousand  tests_units\n",
              "0      ABW    Aruba  ...                    NaN          NaN\n",
              "1      ABW    Aruba  ...                    NaN          NaN\n",
              "2      ABW    Aruba  ...                    NaN          NaN\n",
              "3      ABW    Aruba  ...                    NaN          NaN\n",
              "4      ABW    Aruba  ...                    NaN          NaN\n",
              "\n",
              "[5 rows x 16 columns]"
            ]
          },
          "metadata": {
            "tags": []
          },
          "execution_count": 260
        }
      ]
    },
    {
      "cell_type": "code",
      "metadata": {
        "id": "FnpcwLi2F6O6",
        "colab_type": "code",
        "outputId": "33ea26fd-39ff-4b05-be42-1f3896afe5fc",
        "colab": {
          "base_uri": "https://localhost:8080/",
          "height": 34
        }
      },
      "source": [
        "# Doing some basic checks\n",
        "cov_world.shape"
      ],
      "execution_count": 261,
      "outputs": [
        {
          "output_type": "execute_result",
          "data": {
            "text/plain": [
              "(12875, 16)"
            ]
          },
          "metadata": {
            "tags": []
          },
          "execution_count": 261
        }
      ]
    },
    {
      "cell_type": "code",
      "metadata": {
        "id": "qTX6fIxakJbw",
        "colab_type": "code",
        "colab": {}
      },
      "source": [
        "# Select only the required columns\n",
        "cov_world = cov_world[['location','date','new_cases']]"
      ],
      "execution_count": 0,
      "outputs": []
    },
    {
      "cell_type": "code",
      "metadata": {
        "id": "Kc-f-H1-CUy3",
        "colab_type": "code",
        "outputId": "c1f3c300-ae32-4e0e-8c36-df41f7aa2af5",
        "colab": {
          "base_uri": "https://localhost:8080/",
          "height": 197
        }
      },
      "source": [
        "cov_world.head()"
      ],
      "execution_count": 263,
      "outputs": [
        {
          "output_type": "execute_result",
          "data": {
            "text/html": [
              "<div>\n",
              "<style scoped>\n",
              "    .dataframe tbody tr th:only-of-type {\n",
              "        vertical-align: middle;\n",
              "    }\n",
              "\n",
              "    .dataframe tbody tr th {\n",
              "        vertical-align: top;\n",
              "    }\n",
              "\n",
              "    .dataframe thead th {\n",
              "        text-align: right;\n",
              "    }\n",
              "</style>\n",
              "<table border=\"1\" class=\"dataframe\">\n",
              "  <thead>\n",
              "    <tr style=\"text-align: right;\">\n",
              "      <th></th>\n",
              "      <th>location</th>\n",
              "      <th>date</th>\n",
              "      <th>new_cases</th>\n",
              "    </tr>\n",
              "  </thead>\n",
              "  <tbody>\n",
              "    <tr>\n",
              "      <th>0</th>\n",
              "      <td>Aruba</td>\n",
              "      <td>2020-03-13</td>\n",
              "      <td>2</td>\n",
              "    </tr>\n",
              "    <tr>\n",
              "      <th>1</th>\n",
              "      <td>Aruba</td>\n",
              "      <td>2020-03-20</td>\n",
              "      <td>2</td>\n",
              "    </tr>\n",
              "    <tr>\n",
              "      <th>2</th>\n",
              "      <td>Aruba</td>\n",
              "      <td>2020-03-24</td>\n",
              "      <td>8</td>\n",
              "    </tr>\n",
              "    <tr>\n",
              "      <th>3</th>\n",
              "      <td>Aruba</td>\n",
              "      <td>2020-03-25</td>\n",
              "      <td>5</td>\n",
              "    </tr>\n",
              "    <tr>\n",
              "      <th>4</th>\n",
              "      <td>Aruba</td>\n",
              "      <td>2020-03-26</td>\n",
              "      <td>2</td>\n",
              "    </tr>\n",
              "  </tbody>\n",
              "</table>\n",
              "</div>"
            ],
            "text/plain": [
              "  location        date  new_cases\n",
              "0    Aruba  2020-03-13          2\n",
              "1    Aruba  2020-03-20          2\n",
              "2    Aruba  2020-03-24          8\n",
              "3    Aruba  2020-03-25          5\n",
              "4    Aruba  2020-03-26          2"
            ]
          },
          "metadata": {
            "tags": []
          },
          "execution_count": 263
        }
      ]
    },
    {
      "cell_type": "code",
      "metadata": {
        "id": "lYpvx3lMjfYU",
        "colab_type": "code",
        "colab": {
          "base_uri": "https://localhost:8080/",
          "height": 816
        },
        "outputId": "3e8b063a-5ba5-4307-ba9f-c61171483ee8"
      },
      "source": [
        "# Checking the names of the infected counties\n",
        "cov_world.location.unique()"
      ],
      "execution_count": 264,
      "outputs": [
        {
          "output_type": "execute_result",
          "data": {
            "text/plain": [
              "array(['Aruba', 'Afghanistan', 'Angola', 'Anguilla', 'Albania', 'Andorra',\n",
              "       'United Arab Emirates', 'Argentina', 'Armenia',\n",
              "       'Antigua and Barbuda', 'Australia', 'Austria', 'Azerbaijan',\n",
              "       'Burundi', 'Belgium', 'Benin', 'Bonaire Sint Eustatius and Saba',\n",
              "       'Burkina Faso', 'Bangladesh', 'Bulgaria', 'Bahrain', 'Bahamas',\n",
              "       'Bosnia and Herzegovina', 'Belarus', 'Belize', 'Bermuda',\n",
              "       'Bolivia', 'Brazil', 'Barbados', 'Brunei', 'Bhutan', 'Botswana',\n",
              "       'Central African Republic', 'Canada', 'Switzerland', 'Chile',\n",
              "       'China', \"Cote d'Ivoire\", 'Cameroon',\n",
              "       'Democratic Republic of Congo', 'Congo', 'Colombia', 'Cape Verde',\n",
              "       'Costa Rica', 'Cuba', 'Curacao', 'Cayman Islands', 'Cyprus',\n",
              "       'Czech Republic', 'Germany', 'Djibouti', 'Dominica', 'Denmark',\n",
              "       'Dominican Republic', 'Algeria', 'Ecuador', 'Egypt', 'Eritrea',\n",
              "       'Spain', 'Estonia', 'Ethiopia', 'Finland', 'Fiji',\n",
              "       'Falkland Islands', 'France', 'Faeroe Islands', 'Gabon',\n",
              "       'United Kingdom', 'Georgia', 'Guernsey', 'Ghana', 'Gibraltar',\n",
              "       'Guinea', 'Gambia', 'Guinea-Bissau', 'Equatorial Guinea', 'Greece',\n",
              "       'Grenada', 'Greenland', 'Guatemala', 'Guam', 'Guyana', 'Hong Kong',\n",
              "       'Honduras', 'Croatia', 'Haiti', 'Hungary', 'Indonesia',\n",
              "       'Isle of Man', 'India', 'Ireland', 'Iran', 'Iraq', 'Iceland',\n",
              "       'Israel', 'Italy', 'Jamaica', 'Jersey', 'Jordan', 'Japan',\n",
              "       'Kazakhstan', 'Kenya', 'Kyrgyzstan', 'Cambodia',\n",
              "       'Saint Kitts and Nevis', 'South Korea', 'Kuwait', 'Laos',\n",
              "       'Lebanon', 'Liberia', 'Libya', 'Saint Lucia', 'Liechtenstein',\n",
              "       'Sri Lanka', 'Lithuania', 'Luxembourg', 'Latvia', 'Morocco',\n",
              "       'Monaco', 'Moldova', 'Madagascar', 'Maldives', 'Mexico',\n",
              "       'Macedonia', 'Mali', 'Malta', 'Myanmar', 'Montenegro', 'Mongolia',\n",
              "       'Northern Mariana Islands', 'Mozambique', 'Mauritania',\n",
              "       'Montserrat', 'Mauritius', 'Malawi', 'Malaysia', 'Namibia',\n",
              "       'New Caledonia', 'Niger', 'Nigeria', 'Nicaragua', 'Netherlands',\n",
              "       'Norway', 'Nepal', 'New Zealand', 'Oman', 'Pakistan', 'Panama',\n",
              "       'Peru', 'Philippines', 'Papua New Guinea', 'Poland', 'Puerto Rico',\n",
              "       'Portugal', 'Paraguay', 'Palestine', 'French Polynesia', 'Qatar',\n",
              "       'Kosovo', 'Romania', 'Russia', 'Rwanda', 'Saudi Arabia', 'Sudan',\n",
              "       'Senegal', 'Singapore', 'Sierra Leone', 'El Salvador',\n",
              "       'San Marino', 'Somalia', 'Serbia', 'South Sudan',\n",
              "       'Sao Tome and Principe', 'Suriname', 'Slovakia', 'Slovenia',\n",
              "       'Sweden', 'Swaziland', 'Sint Maarten (Dutch part)', 'Seychelles',\n",
              "       'Syria', 'Turks and Caicos Islands', 'Chad', 'Togo', 'Thailand',\n",
              "       'Timor', 'Trinidad and Tobago', 'Tunisia', 'Turkey', 'Taiwan',\n",
              "       'Tanzania', 'Uganda', 'Ukraine', 'Uruguay', 'United States',\n",
              "       'Uzbekistan', 'Vatican', 'Saint Vincent and the Grenadines',\n",
              "       'Venezuela', 'British Virgin Islands',\n",
              "       'United States Virgin Islands', 'Vietnam', 'Yemen', 'South Africa',\n",
              "       'Zambia', 'Zimbabwe'], dtype=object)"
            ]
          },
          "metadata": {
            "tags": []
          },
          "execution_count": 264
        }
      ]
    },
    {
      "cell_type": "code",
      "metadata": {
        "id": "ocLv8TF5GY_1",
        "colab_type": "code",
        "colab": {}
      },
      "source": [
        "# Doing analysis only for india\n",
        "cov_india = cov_world.loc[cov_world.location=='India']"
      ],
      "execution_count": 0,
      "outputs": []
    },
    {
      "cell_type": "code",
      "metadata": {
        "id": "HDJ15VZOG0ac",
        "colab_type": "code",
        "colab": {
          "base_uri": "https://localhost:8080/",
          "height": 105
        },
        "outputId": "bd0db6a2-8dfa-44ba-c600-ae0d8910b07c"
      },
      "source": [
        "# Doing some checks on the selected data\n",
        "print(cov_india.shape)\n",
        "print(cov_india.dtypes)"
      ],
      "execution_count": 266,
      "outputs": [
        {
          "output_type": "stream",
          "text": [
            "(115, 3)\n",
            "location     object\n",
            "date         object\n",
            "new_cases     int64\n",
            "dtype: object\n"
          ],
          "name": "stdout"
        }
      ]
    },
    {
      "cell_type": "code",
      "metadata": {
        "id": "QIbLZ9ArG5Ns",
        "colab_type": "code",
        "colab": {
          "base_uri": "https://localhost:8080/",
          "height": 227
        },
        "outputId": "b51d6dbf-1b33-4d94-ee1a-c81d19a93495"
      },
      "source": [
        "# Doing basic formatiing for plotting the dataset\n",
        "cov_india['date'] = pd.to_datetime(cov_india['date'])\n",
        "cov_india = cov_india.set_index('date')\n",
        "cov_india.drop('location',axis=1,inplace=True)\n",
        "cov_india.tail()"
      ],
      "execution_count": 267,
      "outputs": [
        {
          "output_type": "execute_result",
          "data": {
            "text/html": [
              "<div>\n",
              "<style scoped>\n",
              "    .dataframe tbody tr th:only-of-type {\n",
              "        vertical-align: middle;\n",
              "    }\n",
              "\n",
              "    .dataframe tbody tr th {\n",
              "        vertical-align: top;\n",
              "    }\n",
              "\n",
              "    .dataframe thead th {\n",
              "        text-align: right;\n",
              "    }\n",
              "</style>\n",
              "<table border=\"1\" class=\"dataframe\">\n",
              "  <thead>\n",
              "    <tr style=\"text-align: right;\">\n",
              "      <th></th>\n",
              "      <th>new_cases</th>\n",
              "    </tr>\n",
              "    <tr>\n",
              "      <th>date</th>\n",
              "      <th></th>\n",
              "    </tr>\n",
              "  </thead>\n",
              "  <tbody>\n",
              "    <tr>\n",
              "      <th>2020-04-20</th>\n",
              "      <td>1553</td>\n",
              "    </tr>\n",
              "    <tr>\n",
              "      <th>2020-04-21</th>\n",
              "      <td>1335</td>\n",
              "    </tr>\n",
              "    <tr>\n",
              "      <th>2020-04-22</th>\n",
              "      <td>1384</td>\n",
              "    </tr>\n",
              "    <tr>\n",
              "      <th>2020-04-23</th>\n",
              "      <td>1409</td>\n",
              "    </tr>\n",
              "    <tr>\n",
              "      <th>2020-04-24</th>\n",
              "      <td>1684</td>\n",
              "    </tr>\n",
              "  </tbody>\n",
              "</table>\n",
              "</div>"
            ],
            "text/plain": [
              "            new_cases\n",
              "date                 \n",
              "2020-04-20       1553\n",
              "2020-04-21       1335\n",
              "2020-04-22       1384\n",
              "2020-04-23       1409\n",
              "2020-04-24       1684"
            ]
          },
          "metadata": {
            "tags": []
          },
          "execution_count": 267
        }
      ]
    },
    {
      "cell_type": "code",
      "metadata": {
        "id": "ti7AyY_HGE-3",
        "colab_type": "code",
        "colab": {
          "base_uri": "https://localhost:8080/",
          "height": 498
        },
        "outputId": "8a15f7e2-992f-4de9-d049-1a176d37e9d8"
      },
      "source": [
        "cov_india.plot(figsize=(20,8))"
      ],
      "execution_count": 268,
      "outputs": [
        {
          "output_type": "execute_result",
          "data": {
            "text/plain": [
              "<matplotlib.axes._subplots.AxesSubplot at 0x7ff6754d3860>"
            ]
          },
          "metadata": {
            "tags": []
          },
          "execution_count": 268
        },
        {
          "output_type": "display_data",
          "data": {
            "image/png": "[encoded data removed]",
            "text/plain": [
              "<Figure size 1440x576 with 1 Axes>"
            ]
          },
          "metadata": {
            "tags": [],
            "needs_background": "light"
          }
        }
      ]
    },
    {
      "cell_type": "code",
      "metadata": {
        "id": "m2OJEXOYHtaX",
        "colab_type": "code",
        "colab": {
          "base_uri": "https://localhost:8080/",
          "height": 498
        },
        "outputId": "12a26685-8f21-4ac4-914f-4fb886cab7ba"
      },
      "source": [
        "# Remove the seasonility from the dataframe before plotting\n",
        "cov_india_roll = cov_india.rolling(window=5).sum()\n",
        "cov_india_roll = cov_india_roll[4:]\n",
        "cov_india_roll.plot(figsize=(20,8))"
      ],
      "execution_count": 269,
      "outputs": [
        {
          "output_type": "execute_result",
          "data": {
            "text/plain": [
              "<matplotlib.axes._subplots.AxesSubplot at 0x7ff6754b7fd0>"
            ]
          },
          "metadata": {
            "tags": []
          },
          "execution_count": 269
        },
        {
          "output_type": "display_data",
          "data": {
            "image/png": "[encoded data removed]",
            "text/plain": [
              "<Figure size 1440x576 with 1 Axes>"
            ]
          },
          "metadata": {
            "tags": [],
            "needs_background": "light"
          }
        }
      ]
    },
    {
      "cell_type": "code",
      "metadata": {
        "id": "2czr6-osJDMZ",
        "colab_type": "code",
        "colab": {
          "base_uri": "https://localhost:8080/",
          "height": 197
        },
        "outputId": "bbd8466a-865f-40a4-d16e-06866bf778e8"
      },
      "source": [
        "# Prepairing the data for 'prophet' package\n",
        "cov_india_p = cov_india.reset_index()\n",
        "cov_india_p.columns = ['ds','y']\n",
        "cov_india_p.head()"
      ],
      "execution_count": 270,
      "outputs": [
        {
          "output_type": "execute_result",
          "data": {
            "text/html": [
              "<div>\n",
              "<style scoped>\n",
              "    .dataframe tbody tr th:only-of-type {\n",
              "        vertical-align: middle;\n",
              "    }\n",
              "\n",
              "    .dataframe tbody tr th {\n",
              "        vertical-align: top;\n",
              "    }\n",
              "\n",
              "    .dataframe thead th {\n",
              "        text-align: right;\n",
              "    }\n",
              "</style>\n",
              "<table border=\"1\" class=\"dataframe\">\n",
              "  <thead>\n",
              "    <tr style=\"text-align: right;\">\n",
              "      <th></th>\n",
              "      <th>ds</th>\n",
              "      <th>y</th>\n",
              "    </tr>\n",
              "  </thead>\n",
              "  <tbody>\n",
              "    <tr>\n",
              "      <th>0</th>\n",
              "      <td>2019-12-31</td>\n",
              "      <td>0</td>\n",
              "    </tr>\n",
              "    <tr>\n",
              "      <th>1</th>\n",
              "      <td>2020-01-01</td>\n",
              "      <td>0</td>\n",
              "    </tr>\n",
              "    <tr>\n",
              "      <th>2</th>\n",
              "      <td>2020-01-02</td>\n",
              "      <td>0</td>\n",
              "    </tr>\n",
              "    <tr>\n",
              "      <th>3</th>\n",
              "      <td>2020-01-03</td>\n",
              "      <td>0</td>\n",
              "    </tr>\n",
              "    <tr>\n",
              "      <th>4</th>\n",
              "      <td>2020-01-04</td>\n",
              "      <td>0</td>\n",
              "    </tr>\n",
              "  </tbody>\n",
              "</table>\n",
              "</div>"
            ],
            "text/plain": [
              "          ds  y\n",
              "0 2019-12-31  0\n",
              "1 2020-01-01  0\n",
              "2 2020-01-02  0\n",
              "3 2020-01-03  0\n",
              "4 2020-01-04  0"
            ]
          },
          "metadata": {
            "tags": []
          },
          "execution_count": 270
        }
      ]
    },
    {
      "cell_type": "code",
      "metadata": {
        "id": "d4EMgg_rgeZB",
        "colab_type": "code",
        "colab": {}
      },
      "source": [
        "# cov_india_train = cov_india_p[:100]\n",
        "# cov_india_test =  cov_india_p[100:]"
      ],
      "execution_count": 0,
      "outputs": []
    },
    {
      "cell_type": "code",
      "metadata": {
        "id": "oi_YJjKPJshX",
        "colab_type": "code",
        "colab": {
          "base_uri": "https://localhost:8080/",
          "height": 70
        },
        "outputId": "b9cf4173-731b-42d5-b7f1-985b187622e9"
      },
      "source": [
        "# Instansiate and fit the model on the data\n",
        "model = Prophet()\n",
        "model.fit(cov_india_p)"
      ],
      "execution_count": 271,
      "outputs": [
        {
          "output_type": "stream",
          "text": [
            "INFO:fbprophet:Disabling yearly seasonality. Run prophet with yearly_seasonality=True to override this.\n",
            "INFO:fbprophet:Disabling daily seasonality. Run prophet with daily_seasonality=True to override this.\n"
          ],
          "name": "stderr"
        },
        {
          "output_type": "execute_result",
          "data": {
            "text/plain": [
              "<fbprophet.forecaster.Prophet at 0x7ff6754b7160>"
            ]
          },
          "metadata": {
            "tags": []
          },
          "execution_count": 271
        }
      ]
    },
    {
      "cell_type": "code",
      "metadata": {
        "id": "cABRjAolKj_e",
        "colab_type": "code",
        "colab": {
          "base_uri": "https://localhost:8080/",
          "height": 197
        },
        "outputId": "7f98f2b0-b16c-44cd-a1f1-a0ea042153ca"
      },
      "source": [
        "# Making future dates for prediction\n",
        "future_dates = model.make_future_dataframe(periods=15)\n",
        "future_dates.tail()"
      ],
      "execution_count": 272,
      "outputs": [
        {
          "output_type": "execute_result",
          "data": {
            "text/html": [
              "<div>\n",
              "<style scoped>\n",
              "    .dataframe tbody tr th:only-of-type {\n",
              "        vertical-align: middle;\n",
              "    }\n",
              "\n",
              "    .dataframe tbody tr th {\n",
              "        vertical-align: top;\n",
              "    }\n",
              "\n",
              "    .dataframe thead th {\n",
              "        text-align: right;\n",
              "    }\n",
              "</style>\n",
              "<table border=\"1\" class=\"dataframe\">\n",
              "  <thead>\n",
              "    <tr style=\"text-align: right;\">\n",
              "      <th></th>\n",
              "      <th>ds</th>\n",
              "    </tr>\n",
              "  </thead>\n",
              "  <tbody>\n",
              "    <tr>\n",
              "      <th>125</th>\n",
              "      <td>2020-05-05</td>\n",
              "    </tr>\n",
              "    <tr>\n",
              "      <th>126</th>\n",
              "      <td>2020-05-06</td>\n",
              "    </tr>\n",
              "    <tr>\n",
              "      <th>127</th>\n",
              "      <td>2020-05-07</td>\n",
              "    </tr>\n",
              "    <tr>\n",
              "      <th>128</th>\n",
              "      <td>2020-05-08</td>\n",
              "    </tr>\n",
              "    <tr>\n",
              "      <th>129</th>\n",
              "      <td>2020-05-09</td>\n",
              "    </tr>\n",
              "  </tbody>\n",
              "</table>\n",
              "</div>"
            ],
            "text/plain": [
              "            ds\n",
              "125 2020-05-05\n",
              "126 2020-05-06\n",
              "127 2020-05-07\n",
              "128 2020-05-08\n",
              "129 2020-05-09"
            ]
          },
          "metadata": {
            "tags": []
          },
          "execution_count": 272
        }
      ]
    },
    {
      "cell_type": "code",
      "metadata": {
        "id": "_yhPYBz_K-il",
        "colab_type": "code",
        "colab": {}
      },
      "source": [
        "# predicting the future dates and note original data also included in this\n",
        "forecast = model.predict(future_dates)\n",
        "forecast_n = forecast[['ds','yhat','yhat_lower','yhat_upper']]"
      ],
      "execution_count": 0,
      "outputs": []
    },
    {
      "cell_type": "code",
      "metadata": {
        "id": "pDypitygLn1l",
        "colab_type": "code",
        "colab": {
          "base_uri": "https://localhost:8080/",
          "height": 534
        },
        "outputId": "ffbbee90-9b4a-4b46-be9d-d564283890bd"
      },
      "source": [
        "# Checking all the data here yhat represent the prediction\n",
        "forecast.tail(10)"
      ],
      "execution_count": 275,
      "outputs": [
        {
          "output_type": "execute_result",
          "data": {
            "text/html": [
              "<div>\n",
              "<style scoped>\n",
              "    .dataframe tbody tr th:only-of-type {\n",
              "        vertical-align: middle;\n",
              "    }\n",
              "\n",
              "    .dataframe tbody tr th {\n",
              "        vertical-align: top;\n",
              "    }\n",
              "\n",
              "    .dataframe thead th {\n",
              "        text-align: right;\n",
              "    }\n",
              "</style>\n",
              "<table border=\"1\" class=\"dataframe\">\n",
              "  <thead>\n",
              "    <tr style=\"text-align: right;\">\n",
              "      <th></th>\n",
              "      <th>ds</th>\n",
              "      <th>trend</th>\n",
              "      <th>yhat_lower</th>\n",
              "      <th>yhat_upper</th>\n",
              "      <th>trend_lower</th>\n",
              "      <th>trend_upper</th>\n",
              "      <th>additive_terms</th>\n",
              "      <th>additive_terms_lower</th>\n",
              "      <th>additive_terms_upper</th>\n",
              "      <th>weekly</th>\n",
              "      <th>weekly_lower</th>\n",
              "      <th>weekly_upper</th>\n",
              "      <th>multiplicative_terms</th>\n",
              "      <th>multiplicative_terms_lower</th>\n",
              "      <th>multiplicative_terms_upper</th>\n",
              "      <th>yhat</th>\n",
              "    </tr>\n",
              "  </thead>\n",
              "  <tbody>\n",
              "    <tr>\n",
              "      <th>120</th>\n",
              "      <td>2020-04-30</td>\n",
              "      <td>1755.200037</td>\n",
              "      <td>1648.531134</td>\n",
              "      <td>1840.809606</td>\n",
              "      <td>1745.553866</td>\n",
              "      <td>1765.211700</td>\n",
              "      <td>-6.264249</td>\n",
              "      <td>-6.264249</td>\n",
              "      <td>-6.264249</td>\n",
              "      <td>-6.264249</td>\n",
              "      <td>-6.264249</td>\n",
              "      <td>-6.264249</td>\n",
              "      <td>0.0</td>\n",
              "      <td>0.0</td>\n",
              "      <td>0.0</td>\n",
              "      <td>1748.935788</td>\n",
              "    </tr>\n",
              "    <tr>\n",
              "      <th>121</th>\n",
              "      <td>2020-05-01</td>\n",
              "      <td>1804.076956</td>\n",
              "      <td>1704.121568</td>\n",
              "      <td>1899.247066</td>\n",
              "      <td>1791.825498</td>\n",
              "      <td>1817.361036</td>\n",
              "      <td>-8.698871</td>\n",
              "      <td>-8.698871</td>\n",
              "      <td>-8.698871</td>\n",
              "      <td>-8.698871</td>\n",
              "      <td>-8.698871</td>\n",
              "      <td>-8.698871</td>\n",
              "      <td>0.0</td>\n",
              "      <td>0.0</td>\n",
              "      <td>0.0</td>\n",
              "      <td>1795.378085</td>\n",
              "    </tr>\n",
              "    <tr>\n",
              "      <th>122</th>\n",
              "      <td>2020-05-02</td>\n",
              "      <td>1852.953875</td>\n",
              "      <td>1765.776175</td>\n",
              "      <td>1962.091914</td>\n",
              "      <td>1836.638696</td>\n",
              "      <td>1870.274591</td>\n",
              "      <td>9.330728</td>\n",
              "      <td>9.330728</td>\n",
              "      <td>9.330728</td>\n",
              "      <td>9.330728</td>\n",
              "      <td>9.330728</td>\n",
              "      <td>9.330728</td>\n",
              "      <td>0.0</td>\n",
              "      <td>0.0</td>\n",
              "      <td>0.0</td>\n",
              "      <td>1862.284603</td>\n",
              "    </tr>\n",
              "    <tr>\n",
              "      <th>123</th>\n",
              "      <td>2020-05-03</td>\n",
              "      <td>1901.830794</td>\n",
              "      <td>1801.915222</td>\n",
              "      <td>2011.097853</td>\n",
              "      <td>1881.406632</td>\n",
              "      <td>1922.785325</td>\n",
              "      <td>2.509308</td>\n",
              "      <td>2.509308</td>\n",
              "      <td>2.509308</td>\n",
              "      <td>2.509308</td>\n",
              "      <td>2.509308</td>\n",
              "      <td>2.509308</td>\n",
              "      <td>0.0</td>\n",
              "      <td>0.0</td>\n",
              "      <td>0.0</td>\n",
              "      <td>1904.340102</td>\n",
              "    </tr>\n",
              "    <tr>\n",
              "      <th>124</th>\n",
              "      <td>2020-05-04</td>\n",
              "      <td>1950.707713</td>\n",
              "      <td>1865.516522</td>\n",
              "      <td>2065.426742</td>\n",
              "      <td>1927.544611</td>\n",
              "      <td>1975.517339</td>\n",
              "      <td>11.235619</td>\n",
              "      <td>11.235619</td>\n",
              "      <td>11.235619</td>\n",
              "      <td>11.235619</td>\n",
              "      <td>11.235619</td>\n",
              "      <td>11.235619</td>\n",
              "      <td>0.0</td>\n",
              "      <td>0.0</td>\n",
              "      <td>0.0</td>\n",
              "      <td>1961.943332</td>\n",
              "    </tr>\n",
              "    <tr>\n",
              "      <th>125</th>\n",
              "      <td>2020-05-05</td>\n",
              "      <td>1999.584631</td>\n",
              "      <td>1885.988114</td>\n",
              "      <td>2080.557637</td>\n",
              "      <td>1972.298484</td>\n",
              "      <td>2028.862226</td>\n",
              "      <td>-6.401589</td>\n",
              "      <td>-6.401589</td>\n",
              "      <td>-6.401589</td>\n",
              "      <td>-6.401589</td>\n",
              "      <td>-6.401589</td>\n",
              "      <td>-6.401589</td>\n",
              "      <td>0.0</td>\n",
              "      <td>0.0</td>\n",
              "      <td>0.0</td>\n",
              "      <td>1993.183043</td>\n",
              "    </tr>\n",
              "    <tr>\n",
              "      <th>126</th>\n",
              "      <td>2020-05-06</td>\n",
              "      <td>2048.461550</td>\n",
              "      <td>1944.445104</td>\n",
              "      <td>2148.551427</td>\n",
              "      <td>2015.386466</td>\n",
              "      <td>2081.631596</td>\n",
              "      <td>-1.710946</td>\n",
              "      <td>-1.710946</td>\n",
              "      <td>-1.710946</td>\n",
              "      <td>-1.710946</td>\n",
              "      <td>-1.710946</td>\n",
              "      <td>-1.710946</td>\n",
              "      <td>0.0</td>\n",
              "      <td>0.0</td>\n",
              "      <td>0.0</td>\n",
              "      <td>2046.750604</td>\n",
              "    </tr>\n",
              "    <tr>\n",
              "      <th>127</th>\n",
              "      <td>2020-05-07</td>\n",
              "      <td>2097.338469</td>\n",
              "      <td>1994.327261</td>\n",
              "      <td>2198.922094</td>\n",
              "      <td>2059.345622</td>\n",
              "      <td>2135.534316</td>\n",
              "      <td>-6.264249</td>\n",
              "      <td>-6.264249</td>\n",
              "      <td>-6.264249</td>\n",
              "      <td>-6.264249</td>\n",
              "      <td>-6.264249</td>\n",
              "      <td>-6.264249</td>\n",
              "      <td>0.0</td>\n",
              "      <td>0.0</td>\n",
              "      <td>0.0</td>\n",
              "      <td>2091.074220</td>\n",
              "    </tr>\n",
              "    <tr>\n",
              "      <th>128</th>\n",
              "      <td>2020-05-08</td>\n",
              "      <td>2146.215388</td>\n",
              "      <td>2033.464721</td>\n",
              "      <td>2244.919352</td>\n",
              "      <td>2102.695782</td>\n",
              "      <td>2189.378940</td>\n",
              "      <td>-8.698871</td>\n",
              "      <td>-8.698871</td>\n",
              "      <td>-8.698871</td>\n",
              "      <td>-8.698871</td>\n",
              "      <td>-8.698871</td>\n",
              "      <td>-8.698871</td>\n",
              "      <td>0.0</td>\n",
              "      <td>0.0</td>\n",
              "      <td>0.0</td>\n",
              "      <td>2137.516517</td>\n",
              "    </tr>\n",
              "    <tr>\n",
              "      <th>129</th>\n",
              "      <td>2020-05-09</td>\n",
              "      <td>2195.092307</td>\n",
              "      <td>2092.377791</td>\n",
              "      <td>2319.185205</td>\n",
              "      <td>2147.148666</td>\n",
              "      <td>2244.245216</td>\n",
              "      <td>9.330728</td>\n",
              "      <td>9.330728</td>\n",
              "      <td>9.330728</td>\n",
              "      <td>9.330728</td>\n",
              "      <td>9.330728</td>\n",
              "      <td>9.330728</td>\n",
              "      <td>0.0</td>\n",
              "      <td>0.0</td>\n",
              "      <td>0.0</td>\n",
              "      <td>2204.423035</td>\n",
              "    </tr>\n",
              "  </tbody>\n",
              "</table>\n",
              "</div>"
            ],
            "text/plain": [
              "            ds        trend  ...  multiplicative_terms_upper         yhat\n",
              "120 2020-04-30  1755.200037  ...                         0.0  1748.935788\n",
              "121 2020-05-01  1804.076956  ...                         0.0  1795.378085\n",
              "122 2020-05-02  1852.953875  ...                         0.0  1862.284603\n",
              "123 2020-05-03  1901.830794  ...                         0.0  1904.340102\n",
              "124 2020-05-04  1950.707713  ...                         0.0  1961.943332\n",
              "125 2020-05-05  1999.584631  ...                         0.0  1993.183043\n",
              "126 2020-05-06  2048.461550  ...                         0.0  2046.750604\n",
              "127 2020-05-07  2097.338469  ...                         0.0  2091.074220\n",
              "128 2020-05-08  2146.215388  ...                         0.0  2137.516517\n",
              "129 2020-05-09  2195.092307  ...                         0.0  2204.423035\n",
              "\n",
              "[10 rows x 16 columns]"
            ]
          },
          "metadata": {
            "tags": []
          },
          "execution_count": 275
        }
      ]
    },
    {
      "cell_type": "code",
      "metadata": {
        "id": "Lhc2tEJVL3l8",
        "colab_type": "code",
        "colab": {
          "base_uri": "https://localhost:8080/",
          "height": 441
        },
        "outputId": "9d66594b-d698-43ac-dc54-918f3c8c9ed4"
      },
      "source": [
        "# Plotting the forcasted values here we can see our model has not done a descent job \n",
        "model.plot(forecast);"
      ],
      "execution_count": 254,
      "outputs": [
        {
          "output_type": "display_data",
          "data": {
            "image/png": "[encoded data removed]",
            "text/plain": [
              "<Figure size 720x432 with 1 Axes>"
            ]
          },
          "metadata": {
            "tags": []
          }
        }
      ]
    },
    {
      "cell_type": "code",
      "metadata": {
        "id": "f97z9y3wUtYH",
        "colab_type": "code",
        "colab": {
          "base_uri": "https://localhost:8080/",
          "height": 441
        },
        "outputId": "aadd693a-e185-43e5-f7e6-3ac261b077ad"
      },
      "source": [
        "# prophet provide inbuilt package for plotting the timeseries component separately\n",
        "model.plot_components(forecast);"
      ],
      "execution_count": 276,
      "outputs": [
        {
          "output_type": "display_data",
          "data": {
            "image/png": "[encoded data removed]",
            "text/plain": [
              "<Figure size 648x432 with 2 Axes>"
            ]
          },
          "metadata": {
            "tags": []
          }
        }
      ]
    },
    {
      "cell_type": "code",
      "metadata": {
        "id": "Q7-TGJ_JWqEV",
        "colab_type": "code",
        "colab": {
          "base_uri": "https://localhost:8080/",
          "height": 70
        },
        "outputId": "1af18799-23c1-40fe-b8b2-0642812c2d85"
      },
      "source": [
        "# Ignore\n",
        "'''\n",
        "!pip install plotly\n",
        "from fbprophet.plot import plot_plotly\n",
        "import plotly.offline as py\n",
        "py.init_notebook_mode()\n",
        "\n",
        "fig = plot_plotly(model,forecast)\n",
        "py.iplot(fig)\n",
        "'''"
      ],
      "execution_count": 127,
      "outputs": [
        {
          "output_type": "stream",
          "text": [
            "Requirement already satisfied: plotly in /usr/local/lib/python3.6/dist-packages (4.4.1)\n",
            "Requirement already satisfied: retrying>=1.3.3 in /usr/local/lib/python3.6/dist-packages (from plotly) (1.3.3)\n",
            "Requirement already satisfied: six in /usr/local/lib/python3.6/dist-packages (from plotly) (1.12.0)\n"
          ],
          "name": "stdout"
        }
      ]
    }
  ]
}